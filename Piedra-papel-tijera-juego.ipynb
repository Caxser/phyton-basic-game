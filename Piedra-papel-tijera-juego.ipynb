{
 "cells": [
  {
   "cell_type": "code",
   "execution_count": 11,
   "id": "b1c043f2",
   "metadata": {},
   "outputs": [
    {
     "name": "stdout",
     "output_type": "stream",
     "text": [
      "Bienvenido \n",
      "Este es el juego de piedra, papel o tijera. \n",
      "Juega un poco con la computadora\n",
      "Selecciona la letra que corresponda a tu elección \n",
      "Piedra: A. \n",
      "Papel: B. \n",
      "Tijera: C. \n",
      "b\n",
      "Seleccionaste: Papel\n",
      "La computadora seleccionó: Papel\n"
     ]
    },
    {
     "data": {
      "text/plain": [
       "'!Empate¡'"
      ]
     },
     "execution_count": 11,
     "metadata": {},
     "output_type": "execute_result"
    }
   ],
   "source": [
    "## Piedra, papel o tijera\n",
    "##\n",
    "\n",
    "import random\n",
    "\n",
    "\n",
    "print(\"Bienvenido \\nEste es el juego de piedra, papel o tijera. \\nJuega un poco con la computadora\")\n",
    "\n",
    "\n",
    "\n",
    "\n",
    "def jugar():\n",
    "    #ingresa selección de usuario y computadora\n",
    "    usuario= input(\"Selecciona la letra que corresponda a tu elección \\nPiedra: A. \\nPapel: B. \\nTijera: C. \\n\").lower()\n",
    "    computadora= random.choice([\"a\",\"b\",\"c\"])\n",
    "    #implementar diccionario con llaves de cada valor\n",
    "    seleccion={\"a\": \"Piedra\", \"b\": \"Papel\", \"c\": \"Tijera\"}\n",
    "    print(f\"Seleccionaste: {seleccion[usuario]}\")\n",
    "    print(f\"La computadora seleccionó: {seleccion[computadora]}\")\n",
    "    \n",
    "    if usuario==computadora:\n",
    "        return \"!Empate¡\"\n",
    "    \n",
    "    if gano_el_jugador(usuario, computadora):\n",
    "        return \"!Ganaste¡\"\n",
    "    \n",
    "    return \"!Perdiste!\"\n",
    "\n",
    "def gano_el_jugador(jugador, oponente):\n",
    "    #retornar True si gana el jugador\n",
    "    #posibiidades: piedra > tijera\n",
    "    #tijera> papel\n",
    "    #papel> piedra\n",
    "    \n",
    "    if ((jugador== \"a\" and oponente== \"c\") \n",
    "        or (jugador== \"b\" and oponente== \"a\") \n",
    "        or (jugador== \"c\" and oponente==\"b\")):\n",
    "        return True\n",
    "    else: \n",
    "        return False\n",
    "\n",
    "#Llamada de función\n",
    "jugar()\n",
    "    "
   ]
  },
  {
   "cell_type": "code",
   "execution_count": null,
   "id": "2beec7e5",
   "metadata": {},
   "outputs": [],
   "source": []
  }
 ],
 "metadata": {
  "kernelspec": {
   "display_name": "Python 3 (ipykernel)",
   "language": "python",
   "name": "python3"
  },
  "language_info": {
   "codemirror_mode": {
    "name": "ipython",
    "version": 3
   },
   "file_extension": ".py",
   "mimetype": "text/x-python",
   "name": "python",
   "nbconvert_exporter": "python",
   "pygments_lexer": "ipython3",
   "version": "3.10.9"
  }
 },
 "nbformat": 4,
 "nbformat_minor": 5
}
