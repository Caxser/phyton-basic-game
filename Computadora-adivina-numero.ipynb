{
 "cells": [
  {
   "cell_type": "code",
   "execution_count": 5,
   "id": "d73b3009",
   "metadata": {},
   "outputs": [
    {
     "name": "stdout",
     "output_type": "stream",
     "text": [
      "========================\n",
      "       Bienvenid@       \n",
      "========================\n",
      "\n",
      "Selecciona un número entero entre 1 y 10 para que la computadora intente adivinarlo. \n",
      "\n",
      "\n",
      "Mi prediccion es 7. \n",
      "Si el numero es demasiado grande, ingresa (A). \n",
      "Si el número es muy pequeño, ingresa (B). \n",
      "Si es correcta, ingresa (C): a\n",
      "\n",
      "Mi prediccion es 3. \n",
      "Si el numero es demasiado grande, ingresa (A). \n",
      "Si el número es muy pequeño, ingresa (B). \n",
      "Si es correcta, ingresa (C): c\n",
      "\n",
      "Listo, la computadora adivinó tu número: 3, en 2 intentos.\n",
      "\n",
      "========================\n",
      "   Gracias por jugar    \n",
      "========================\n"
     ]
    }
   ],
   "source": [
    "import random\n",
    "\n",
    "\n",
    "def computadora_adivina_numero(x):\n",
    "    print(\"========================\")\n",
    "    print(\"       Bienvenid@       \")\n",
    "    print(\"========================\")\n",
    "    print(f\"\\nSelecciona un número entero entre 1 y {x} para que la computadora intente adivinarlo. \\n\")\n",
    "    \n",
    "    limite_inferior=1\n",
    "    limite_superior=x\n",
    "    intentos=0\n",
    "    \n",
    "    respuesta = \"\"\n",
    "    while respuesta != \"c\":\n",
    "        #Se generará una prediccion\n",
    "        if limite_inferior != limite_superior:\n",
    "            prediccion = random.randint(limite_inferior,limite_superior)\n",
    "        else:\n",
    "            prediccion = limite_inferior\n",
    "        \n",
    "        #obtener respuesta del usuario\n",
    "        intentos+=1\n",
    "        respuesta= input(f\"\\nMi prediccion es {prediccion}. \\nSi el numero es demasiado grande, ingresa (A). \\nSi el número es muy pequeño, ingresa (B). \\nSi es correcta, ingresa (C): \").lower()\n",
    "        \n",
    "        if respuesta== \"a\":\n",
    "            limite_superior=prediccion-1\n",
    "        elif respuesta== \"b\":\n",
    "            limite_inferior=prediccion+1\n",
    "            \n",
    "    print(f\"\\nListo, la computadora adivinó tu número: {prediccion}, en {intentos} intentos.\\n\")\n",
    "    print(\"========================\")\n",
    "    print(\"   Gracias por jugar    \")\n",
    "    print(\"========================\")\n",
    "\n",
    "    \n",
    "#llamada a la funcion\n",
    "computadora_adivina_numero(10)\n",
    "        \n",
    "    "
   ]
  }
 ],
 "metadata": {
  "kernelspec": {
   "display_name": "Python 3 (ipykernel)",
   "language": "python",
   "name": "python3"
  },
  "language_info": {
   "codemirror_mode": {
    "name": "ipython",
    "version": 3
   },
   "file_extension": ".py",
   "mimetype": "text/x-python",
   "name": "python",
   "nbconvert_exporter": "python",
   "pygments_lexer": "ipython3",
   "version": "3.10.9"
  }
 },
 "nbformat": 4,
 "nbformat_minor": 5
}
