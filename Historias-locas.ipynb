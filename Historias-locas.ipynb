{
 "cells": [
  {
   "cell_type": "code",
   "execution_count": 14,
   "id": "3007e420",
   "metadata": {},
   "outputs": [
    {
     "name": "stdout",
     "output_type": "stream",
     "text": [
      "Introduce la siguiente información \n",
      " para crear tu propia historia loca\n",
      "Adjetivo: bello\n",
      "Verbo: robar\n",
      "Verbo: comer\n",
      "Sustantivo (plural): plantas\n",
      "¡Programar es tan bello! Siempre me emociona porque me encánta robar problemas. ¡Aprende a comer con python y alcanza tus plantas!\n"
     ]
    }
   ],
   "source": [
    "## Historias locas\n",
    "## Concatenacion de caracteres\n",
    "\n",
    "print(f\"Introduce la siguiente información \\n para crear tu propia historia loca\")\n",
    "      \n",
    "adj= input(\"Adjetivo: \")\n",
    "verbo1 = input(\"Verbo: \")\n",
    "verbo2 = input(\"Verbo: \")\n",
    "sustantivo_plural = input(\"Sustantivo (plural): \")\n",
    "\n",
    "madlib= f\"¡Programar es tan {adj}! Siempre me emociona porque me encánta {verbo1} problemas. ¡Aprende a {verbo2} con python y alcanza tus {sustantivo_plural}!\"\n",
    "print(madlib)"
   ]
  },
  {
   "cell_type": "code",
   "execution_count": null,
   "id": "4f84b7fd",
   "metadata": {},
   "outputs": [],
   "source": []
  }
 ],
 "metadata": {
  "kernelspec": {
   "display_name": "Python 3 (ipykernel)",
   "language": "python",
   "name": "python3"
  },
  "language_info": {
   "codemirror_mode": {
    "name": "ipython",
    "version": 3
   },
   "file_extension": ".py",
   "mimetype": "text/x-python",
   "name": "python",
   "nbconvert_exporter": "python",
   "pygments_lexer": "ipython3",
   "version": "3.10.9"
  }
 },
 "nbformat": 4,
 "nbformat_minor": 5
}
