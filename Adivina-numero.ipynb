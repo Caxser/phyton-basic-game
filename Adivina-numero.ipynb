{
 "cells": [
  {
   "cell_type": "code",
   "execution_count": 9,
   "id": "577cba54",
   "metadata": {},
   "outputs": [
    {
     "name": "stdout",
     "output_type": "stream",
     "text": [
      "========================\n",
      "       Bienvenid@       \n",
      "========================\n",
      "\n",
      "La meta de este juego es adivinar el número generado por la computadora. \n",
      "\n",
      "Este es tu intento número 1\n",
      "Adivina un número entre 1 y 10: 7\n",
      "El número es muy grande. Intenta de nuevo. \n",
      "\n",
      "Este es tu intento número 2\n",
      "Adivina un número entre 1 y 10: 4\n",
      "El número es muy grande. Intenta de nuevo. \n",
      "\n",
      "Este es tu intento número 3\n",
      "Adivina un número entre 1 y 10: 2\n",
      "El número es muy pequeño. Intenta de nuevo. \n",
      "\n",
      "Este es tu intento número 4\n",
      "Adivina un número entre 1 y 10: 3\n",
      "\n",
      " ¡Le has atinado!. El numero era 3 \n",
      "========================\n",
      "   Gracias por jugar    \n",
      "========================\n"
     ]
    }
   ],
   "source": [
    "import random\n",
    "\n",
    "\n",
    "def adivina_numero(x):\n",
    "    print(\"========================\")\n",
    "    print(\"       Bienvenid@       \")\n",
    "    print(\"========================\")\n",
    "    print(\"\\nLa meta de este juego es adivinar el número generado por la computadora. \\n\")\n",
    "    \n",
    "    #numero aleatorio entre 1 y x\n",
    "    numero_aleatorio = random.randint(1,x)\n",
    "    \n",
    "    prediccion = 0\n",
    "    intento = 1\n",
    "    \n",
    "    while prediccion != numero_aleatorio:\n",
    "        print(f\"Este es tu intento número {intento}\")\n",
    "        intento += 1\n",
    "        \n",
    "        #Usuario ingresa numero\n",
    "        prediccion= int(input(f\"Adivina un número entre 1 y {x}: \"))\n",
    "        \n",
    "        if prediccion< numero_aleatorio:\n",
    "            print(\"El número es muy pequeño. Intenta de nuevo. \\n\")\n",
    "        elif prediccion> numero_aleatorio:\n",
    "            print(\"El número es muy grande. Intenta de nuevo. \\n\")\n",
    "    \n",
    "    #Usuario ha adivinado\n",
    "    print(f\"\\n¡Le has atinado!. El numero era {numero_aleatorio} \")\n",
    "    \n",
    "    \n",
    "    print(\"========================\")\n",
    "    print(\"   Gracias por jugar    \")\n",
    "    print(\"========================\")\n",
    "        \n",
    "        \n",
    "#llamada a la función\n",
    "adivina_numero(10)\n",
    "        "
   ]
  },
  {
   "cell_type": "code",
   "execution_count": null,
   "id": "33fc1153",
   "metadata": {},
   "outputs": [],
   "source": []
  }
 ],
 "metadata": {
  "kernelspec": {
   "display_name": "Python 3 (ipykernel)",
   "language": "python",
   "name": "python3"
  },
  "language_info": {
   "codemirror_mode": {
    "name": "ipython",
    "version": 3
   },
   "file_extension": ".py",
   "mimetype": "text/x-python",
   "name": "python",
   "nbconvert_exporter": "python",
   "pygments_lexer": "ipython3",
   "version": "3.10.9"
  }
 },
 "nbformat": 4,
 "nbformat_minor": 5
}
